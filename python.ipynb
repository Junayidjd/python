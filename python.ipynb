{
 "cells": [
  {
   "cell_type": "code",
   "execution_count": 1,
   "id": "bf2509f9-bab1-40a3-af30-28987e95f6d7",
   "metadata": {},
   "outputs": [
    {
     "name": "stdout",
     "output_type": "stream",
     "text": [
      "* * * * * \n",
      "* * * * \n",
      "* * * \n",
      "* * \n",
      "* \n"
     ]
    }
   ],
   "source": [
    "rows = 5\n",
    "i = rows\n",
    "while i >= 1:\n",
    "    j = 1\n",
    "    while j <= i:\n",
    "        print(\"*\", end=\" \")\n",
    "        j += 1\n",
    "    print()\n",
    "    i -= 1\n"
   ]
  },
  {
   "cell_type": "code",
   "execution_count": 1,
   "id": "a460e086-1c11-4e5d-bac2-2a754febc1ac",
   "metadata": {},
   "outputs": [
    {
     "name": "stdout",
     "output_type": "stream",
     "text": [
      "Password should contain at least three special characters.\n"
     ]
    }
   ],
   "source": [
    "def check_password(password):\n",
    "  special_char = ['!', '@', '#', '$', '%', '^', '&', '*', '(', ')', '-', '_', '+']\n",
    "\n",
    "  if len(password) < 8:\n",
    "      return \"Password should be at least 8 characters long.\"\n",
    "      \n",
    "  elif not any(char.isdigit() for char in password):\n",
    "      return \"Password should contain at least one digit.\"\n",
    "\n",
    "  # Check for at least 2 uppercase letters\n",
    "  if sum(1 for char in password if char.isupper()) < 2:\n",
    "      return \"Password should contain at least two uppercase letters.\"\n",
    "\n",
    "  # Check for at least 2 lowercase letters\n",
    "  if sum(1 for char in password if char.islower()) < 2:\n",
    "      return \"Password should contain at least two lowercase letters.\"\n",
    "\n",
    "  # Check for at least 3 special characters\n",
    "  if sum(1 for char in password if char in special_char) < 3:\n",
    "      return \"Password should contain at least three special characters.\"\n",
    "\n",
    "  return \"It is a valid password.\"\n",
    "\n",
    "# # Test the function\n",
    "# print(check_password(\"A1b!@#\"))\n",
    "# print(check_password(\"A1b2c3d4\"))\n",
    "# print(check_password(\"Abc!@#def\"))\n",
    "# print(check_password(\"Ab1!@#CdeF\"))\n",
    "# print(check_password(\"AAbc1!@#\"))\n",
    "# print(check_password(\"Abc!@#defg\"))\n",
    "# print(check_password(\"Abc!@#defgH\"))\n",
    "\n",
    "password = \"JdsJ@@2233\"\n",
    "print(check_password(password))"
   ]
  },
  {
   "cell_type": "code",
   "execution_count": 6,
   "id": "ee0dd832-7d3e-4062-8591-370b3bd519c7",
   "metadata": {},
   "outputs": [
    {
     "name": "stdout",
     "output_type": "stream",
     "text": [
      "[1, 2, 3, 4, 5, 6]\n",
      "[-1, -2, -3, -4, -5, 0]\n"
     ]
    }
   ],
   "source": [
    "# Sort a list of integers into positive and negative integers lists.\n",
    "lst = [1,2,3,4,5,6,-1,-2,-3,-4,-5,0]\n",
    "positive = []\n",
    "negative = []\n",
    "\n",
    "# Use a loop and the lambda function to categorize each element\n",
    "for x in lst:\n",
    "  if (lambda x: x>0)(x):  # Call the lambda function and check the result\n",
    "    positive.append(x)\n",
    "  else:\n",
    "    negative.append(x)\n",
    "\n",
    "print(positive)\n",
    "print(negative)\n"
   ]
  },
  {
   "cell_type": "code",
   "execution_count": null,
   "id": "c172b296-10ca-4142-a2aa-4e13cc01986a",
   "metadata": {},
   "outputs": [],
   "source": []
  },
  {
   "cell_type": "code",
   "execution_count": null,
   "id": "44390835-10b4-4f55-bd83-ca0f472f5518",
   "metadata": {},
   "outputs": [],
   "source": []
  },
  {
   "cell_type": "code",
   "execution_count": 10,
   "id": "3feb227e-7fb0-4ecf-9913-cecf531086c4",
   "metadata": {},
   "outputs": [
    {
     "name": "stdout",
     "output_type": "stream",
     "text": [
      "[('orange', 80), ('mango', 99), ('grapes', 1000)]\n"
     ]
    }
   ],
   "source": [
    "# find max value \n",
    "fruits = [(\"mango\", 99), (\"orange\", 80), (\"grapes\", 1000)]\n",
    "sorted_fruits = sorted(fruits, key=lambda x: x[1])\n",
    "\n",
    "print(sorted_fruits)\n"
   ]
  },
  {
   "cell_type": "code",
   "execution_count": null,
   "id": "a07de667-8938-4d9c-904b-361d13e54b66",
   "metadata": {},
   "outputs": [],
   "source": []
  },
  {
   "cell_type": "code",
   "execution_count": null,
   "id": "70a10a78-726d-4ad8-b2f5-64d63d836b6d",
   "metadata": {},
   "outputs": [],
   "source": []
  },
  {
   "cell_type": "code",
   "execution_count": null,
   "id": "3c6b5852-bbb7-40e6-96b9-a31e387bf429",
   "metadata": {},
   "outputs": [],
   "source": []
  },
  {
   "cell_type": "code",
   "execution_count": 15,
   "id": "648a0eba-430d-4a7a-b1ce-1b33e949dab0",
   "metadata": {},
   "outputs": [
    {
     "name": "stdout",
     "output_type": "stream",
     "text": [
      "True\n",
      "False\n"
     ]
    }
   ],
   "source": [
    "\n",
    "# using lambda function \n",
    "# check it the string start with a particulare letter\n",
    "\n",
    "# lambda function\n",
    "check = lambda x,y: True if x.startswith(y) else False\n",
    "# driver code\n",
    "print(check(\"python\",\"py\"))\n",
    "print(check(\"python\",\"th\"))\n"
   ]
  },
  {
   "cell_type": "code",
   "execution_count": null,
   "id": "cb41a005-3e07-48e3-b04f-85f364cf01d3",
   "metadata": {},
   "outputs": [],
   "source": []
  },
  {
   "cell_type": "code",
   "execution_count": null,
   "id": "96793142-d7ea-4e2e-a358-108e14e33a24",
   "metadata": {},
   "outputs": [],
   "source": []
  },
  {
   "cell_type": "code",
   "execution_count": null,
   "id": "ff2fd8e8-db02-4489-a2eb-26ce8d08630e",
   "metadata": {},
   "outputs": [],
   "source": []
  },
  {
   "cell_type": "code",
   "execution_count": null,
   "id": "2678d016-7468-4f6e-8134-a7b23ff95739",
   "metadata": {},
   "outputs": [],
   "source": []
  },
  {
   "cell_type": "code",
   "execution_count": 21,
   "id": "b51abb59-271f-4c1c-9be9-21fa8e7fd323",
   "metadata": {},
   "outputs": [
    {
     "name": "stdout",
     "output_type": "stream",
     "text": [
      "Using map and lambda: [1, 4, 9, 16, 25, 36, 49, 64, 81, 100]\n",
      "Using list comprehension: [1, 4, 9, 16, 25, 36, 49, 64, 81, 100]\n"
     ]
    }
   ],
   "source": [
    "# Using map and lambda\n",
    "find_sqr_map = list(map(lambda x: x**2, range(1, 11)))\n",
    "print(\"Using map and lambda:\", find_sqr_map)\n",
    "\n",
    "# Using list comprehension\n",
    "find_sqr_list_comp = [x**2 for x in range(1, 11)]\n",
    "print(\"Using list comprehension:\", find_sqr_list_comp)"
   ]
  },
  {
   "cell_type": "code",
   "execution_count": null,
   "id": "428e1f5b-23dd-45e6-b249-eaaca4871a5c",
   "metadata": {},
   "outputs": [],
   "source": []
  },
  {
   "cell_type": "code",
   "execution_count": null,
   "id": "9e89980f-c2db-4ada-b363-e587ef6d2936",
   "metadata": {},
   "outputs": [],
   "source": []
  },
  {
   "cell_type": "code",
   "execution_count": null,
   "id": "5dcddabb-4451-444c-873d-0d02fce25b62",
   "metadata": {},
   "outputs": [],
   "source": []
  },
  {
   "cell_type": "code",
   "execution_count": null,
   "id": "b0960d29-8e8e-4c36-a9ff-a690ec9232db",
   "metadata": {},
   "outputs": [],
   "source": []
  },
  {
   "cell_type": "code",
   "execution_count": 27,
   "id": "f308247d-d498-4c69-b1a4-3a3c7147e178",
   "metadata": {},
   "outputs": [
    {
     "name": "stdout",
     "output_type": "stream",
     "text": [
      "Sorted by quantity (ascending): [('orange', 80), ('mango', 99), ('grapes', 1000)]\n",
      "Sorted by quantity (descending): [('grapes', 1000), ('mango', 99), ('orange', 80)]\n",
      "In-place sort by quantity (ascending): [('orange', 80), ('mango', 99), ('grapes', 1000)]\n",
      "In-place sort by quantity (descending): [('grapes', 1000), ('mango', 99), ('orange', 80)]\n"
     ]
    }
   ],
   "source": [
    "fruits = [(\"mango\", 99), (\"orange\", 80), (\"grapes\", 1000)]\n",
    "\n",
    "# Sorting by quantity in ascending order\n",
    "sorted_fruits = sorted(fruits, key=lambda x: x[1])\n",
    "print(\"Sorted by quantity (ascending):\", sorted_fruits)\n",
    "\n",
    "# Sorting by quantity in descending order\n",
    "sorted_fruits_desc = sorted(fruits, key=lambda x: x[1], reverse=True)\n",
    "print(\"Sorted by quantity (descending):\", sorted_fruits_desc)\n",
    "\n",
    "# Using sort() method to sort in place (ascending)\n",
    "fruits.sort(key=lambda x: x[1])\n",
    "print(\"In-place sort by quantity (ascending):\", fruits)\n",
    "\n",
    "# Using sort() method to sort in place (descending)\n",
    "fruits.sort(key=lambda x: x[1], reverse=True)\n",
    "print(\"In-place sort by quantity (descending):\", fruits)"
   ]
  },
  {
   "cell_type": "code",
   "execution_count": null,
   "id": "afebdacc-e3ce-4a0e-b5c9-5e436d88e0d9",
   "metadata": {},
   "outputs": [],
   "source": []
  }
 ],
 "metadata": {
  "kernelspec": {
   "display_name": "Python 3 (ipykernel)",
   "language": "python",
   "name": "python3"
  },
  "language_info": {
   "codemirror_mode": {
    "name": "ipython",
    "version": 3
   },
   "file_extension": ".py",
   "mimetype": "text/x-python",
   "name": "python",
   "nbconvert_exporter": "python",
   "pygments_lexer": "ipython3",
   "version": "3.11.7"
  }
 },
 "nbformat": 4,
 "nbformat_minor": 5
}
