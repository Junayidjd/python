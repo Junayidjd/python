{
 "cells": [
  {
   "cell_type": "code",
   "execution_count": 1,
   "id": "21b1021e",
   "metadata": {},
   "outputs": [
    {
     "name": "stdout",
     "output_type": "stream",
     "text": [
      "<class 'int'>\n"
     ]
    }
   ],
   "source": [
    "a = 1\n",
    "print(type(a))"
   ]
  },
  {
   "cell_type": "code",
   "execution_count": 2,
   "id": "fb51e566",
   "metadata": {},
   "outputs": [
    {
     "name": "stdout",
     "output_type": "stream",
     "text": [
      "<class 'str'>\n"
     ]
    }
   ],
   "source": [
    "print(type(\"pwskill\"))"
   ]
  },
  {
   "cell_type": "code",
   "execution_count": 3,
   "id": "4b6d26c1",
   "metadata": {},
   "outputs": [],
   "source": [
    "class test :\n",
    "    pass"
   ]
  },
  {
   "cell_type": "code",
   "execution_count": 4,
   "id": "a226c19a",
   "metadata": {},
   "outputs": [
    {
     "data": {
      "text/plain": [
       "__main__.test"
      ]
     },
     "execution_count": 4,
     "metadata": {},
     "output_type": "execute_result"
    }
   ],
   "source": [
    "test"
   ]
  },
  {
   "cell_type": "code",
   "execution_count": 5,
   "id": "11196ad4",
   "metadata": {},
   "outputs": [],
   "source": [
    "a= test()"
   ]
  },
  {
   "cell_type": "code",
   "execution_count": 6,
   "id": "4b541931",
   "metadata": {},
   "outputs": [
    {
     "data": {
      "text/plain": [
       "__main__.test"
      ]
     },
     "execution_count": 6,
     "metadata": {},
     "output_type": "execute_result"
    }
   ],
   "source": [
    "type(a)"
   ]
  },
  {
   "cell_type": "code",
   "execution_count": 7,
   "id": "19445be2",
   "metadata": {},
   "outputs": [
    {
     "name": "stdout",
     "output_type": "stream",
     "text": [
      "<class '__main__.test'>\n"
     ]
    }
   ],
   "source": [
    "print(type(a))"
   ]
  },
  {
   "cell_type": "code",
   "execution_count": 12,
   "id": "0e026002",
   "metadata": {},
   "outputs": [],
   "source": [
    "class pwskill :\n",
    "    def welcome_msg(self):\n",
    "        print(\"welcome to pwskill\")\n",
    "        "
   ]
  },
  {
   "cell_type": "code",
   "execution_count": 13,
   "id": "c337373e",
   "metadata": {},
   "outputs": [],
   "source": [
    "rohan = pwskill()"
   ]
  },
  {
   "cell_type": "code",
   "execution_count": 14,
   "id": "ba1909a0",
   "metadata": {},
   "outputs": [
    {
     "name": "stdout",
     "output_type": "stream",
     "text": [
      "<class '__main__.pwskill'>\n"
     ]
    }
   ],
   "source": [
    "print(type(rohan))"
   ]
  },
  {
   "cell_type": "code",
   "execution_count": 19,
   "id": "866431c9",
   "metadata": {},
   "outputs": [
    {
     "name": "stdout",
     "output_type": "stream",
     "text": [
      "welcome to pwskill\n"
     ]
    }
   ],
   "source": [
    "rohan.welcome_msg()"
   ]
  },
  {
   "cell_type": "code",
   "execution_count": 24,
   "id": "73aacb6d",
   "metadata": {},
   "outputs": [],
   "source": [
    "musab = pwskill()"
   ]
  },
  {
   "cell_type": "code",
   "execution_count": 25,
   "id": "302fda06",
   "metadata": {},
   "outputs": [
    {
     "name": "stdout",
     "output_type": "stream",
     "text": [
      "welcome to pwskill\n"
     ]
    }
   ],
   "source": [
    "musab.welcome_msg()"
   ]
  },
  {
   "cell_type": "code",
   "execution_count": 7,
   "id": "f164e8e0",
   "metadata": {},
   "outputs": [],
   "source": [
    "class pwskill1 :\n",
    "    \n",
    "    def __init__(self, phone_number , email_id,student_id):\n",
    "        self.phone_number = phone_number\n",
    "        self.email_id = email_id\n",
    "        self.student_id= student_id\n",
    "    \n",
    "    def return_student_detail(self):\n",
    "        return self.student_id,self.phone_number,self.email_id"
   ]
  },
  {
   "cell_type": "code",
   "execution_count": 8,
   "id": "1516b1d6",
   "metadata": {},
   "outputs": [],
   "source": [
    "rohan = pwskill1(3493984398,\"junaidjdsiddiqui21@gmial.com\", 349)"
   ]
  },
  {
   "cell_type": "code",
   "execution_count": null,
   "id": "b63c4b66",
   "metadata": {},
   "outputs": [],
   "source": []
  },
  {
   "cell_type": "code",
   "execution_count": 17,
   "id": "4b800266",
   "metadata": {},
   "outputs": [],
   "source": [
    "musab = pwskill1(627627627,\"musab@gmail.com\" , 389)"
   ]
  },
  {
   "cell_type": "code",
   "execution_count": 18,
   "id": "f07ad8ce",
   "metadata": {},
   "outputs": [
    {
     "data": {
      "text/plain": [
       "(389, 627627627, 'musab@gmail.com')"
      ]
     },
     "execution_count": 18,
     "metadata": {},
     "output_type": "execute_result"
    }
   ],
   "source": [
    "musab.return_student_detail()"
   ]
  },
  {
   "cell_type": "code",
   "execution_count": 20,
   "id": "af8255c9",
   "metadata": {},
   "outputs": [
    {
     "ename": "SyntaxError",
     "evalue": "EOL while scanning string literal (616100313.py, line 1)",
     "output_type": "error",
     "traceback": [
      "\u001b[1;36m  File \u001b[1;32m\"C:\\Users\\junaid siddiqui\\AppData\\Local\\Temp\\ipykernel_13400\\616100313.py\"\u001b[1;36m, line \u001b[1;32m1\u001b[0m\n\u001b[1;33m    print(f\"{self.phone})\u001b[0m\n\u001b[1;37m                         ^\u001b[0m\n\u001b[1;31mSyntaxError\u001b[0m\u001b[1;31m:\u001b[0m EOL while scanning string literal\n"
     ]
    }
   ],
   "source": [
    "print(f\"{self.phone})"
   ]
  },
  {
   "cell_type": "markdown",
   "id": "88ef9013",
   "metadata": {},
   "source": []
  },
  {
   "cell_type": "code",
   "execution_count": 22,
   "id": "a54bde6d",
   "metadata": {},
   "outputs": [
    {
     "name": "stdout",
     "output_type": "stream",
     "text": [
      "Bark\n"
     ]
    }
   ],
   "source": [
    "# Inheritance is a fundamental concept in Object-Oriented Programming (OOP) that allows a class (called the subclass) to inherit properties and behavior from another class (called the superclass). This enables code reuse and the creation of specialized classes from more generalized ones.\n",
    "\n",
    "# There are different types of inheritance in OOP:\n",
    "\n",
    "# 1. Single Inheritance:\n",
    "\n",
    "# Single inheritance occurs when a subclass inherits from only one superclass.\n",
    "# In this type of inheritance, the subclass inherits the attributes and methods of the superclass.\n",
    "# Example:\n",
    "\n",
    "class Animal:\n",
    "    def sound(self):\n",
    "        print(\"Some generic sound\")\n",
    "\n",
    "class Dog(Animal):\n",
    "    def sound(self):\n",
    "        print(\"Bark\")\n",
    "\n",
    "dog = Dog()\n",
    "dog.sound()  # Output: \"Bark\"\n",
    "\n",
    "\n",
    "\n",
    "\n",
    "\n"
   ]
  },
  {
   "cell_type": "code",
   "execution_count": 23,
   "id": "8ff2702c",
   "metadata": {},
   "outputs": [
    {
     "name": "stdout",
     "output_type": "stream",
     "text": [
      "Method A\n",
      "Method B\n",
      "Method C\n"
     ]
    }
   ],
   "source": [
    "# 2. Multiple Inheritance:\n",
    "\n",
    "# Multiple inheritance occurs when a subclass inherits from more than one superclass.\n",
    "# In this type of inheritance, the subclass inherits the attributes and methods of all the superclasses.\n",
    "# Example:\n",
    "\n",
    "\n",
    "class A:\n",
    "    def method_a(self):\n",
    "        print(\"Method A\")\n",
    "\n",
    "class B:\n",
    "    def method_b(self):\n",
    "        print(\"Method B\")\n",
    "\n",
    "class C(A, B):\n",
    "    def method_c(self):\n",
    "        print(\"Method C\")\n",
    "\n",
    "obj = C()\n",
    "obj.method_a()  # Output: \"Method A\"\n",
    "obj.method_b()  # Output: \"Method B\"\n",
    "obj.method_c()  # Output: \"Method C\"\n",
    "\n"
   ]
  },
  {
   "cell_type": "code",
   "execution_count": 24,
   "id": "366b4fe8",
   "metadata": {},
   "outputs": [
    {
     "name": "stdout",
     "output_type": "stream",
     "text": [
      "Method A\n",
      "Method B\n",
      "Method C\n"
     ]
    }
   ],
   "source": [
    "# 3.Multilevel Inheritance:\n",
    "\n",
    "# Multilevel inheritance occurs when a subclass inherits from another subclass.\n",
    "# In this type of inheritance, a chain of classes is formed, where each class inherits from the one above it.\n",
    "# Example:\n",
    "\n",
    "class A:\n",
    "    def method_a(self):\n",
    "        print(\"Method A\")\n",
    "\n",
    "class B(A):\n",
    "    def method_b(self):\n",
    "        print(\"Method B\")\n",
    "\n",
    "class C(B):\n",
    "    def method_c(self):\n",
    "        print(\"Method C\")\n",
    "\n",
    "obj = C()\n",
    "obj.method_a()  # Output: \"Method A\"\n",
    "obj.method_b()  # Output: \"Method B\"\n",
    "obj.method_c()  # Output: \"Method C\""
   ]
  },
  {
   "cell_type": "code",
   "execution_count": 25,
   "id": "51cdb3dd",
   "metadata": {},
   "outputs": [
    {
     "name": "stdout",
     "output_type": "stream",
     "text": [
      "Bark\n",
      "Meow\n"
     ]
    }
   ],
   "source": [
    "# 4.Hierarchical Inheritance:\n",
    "\n",
    "# Hierarchical inheritance occurs when more than one subclass inherits from a single superclass.\n",
    "# In this type of inheritance, a single superclass serves as the base for multiple subclasses.\n",
    "# Example:\n",
    "\n",
    "class Animal:\n",
    "    def sound(self):\n",
    "        print(\"Some generic sound\")\n",
    "\n",
    "class Dog(Animal):\n",
    "    def sound(self):\n",
    "        print(\"Bark\")\n",
    "\n",
    "class Cat(Animal):\n",
    "    def sound(self):\n",
    "        print(\"Meow\")\n",
    "\n",
    "dog = Dog()\n",
    "cat = Cat()\n",
    "dog.sound()  # Output: \"Bark\"\n",
    "cat.sound()  # Output: \"Meow\"rohan.return_studentInheritance is a fundamental concept in Object-Oriented Programming (OOP) that allows a class (called the subclass) to inherit properties and behavior from another class (called the superclass). This enables code reuse and the creation of specialized classes from more generalized ones.\n",
    "\n"
   ]
  },
  {
   "cell_type": "code",
   "execution_count": null,
   "id": "e7b6a59b",
   "metadata": {},
   "outputs": [],
   "source": []
  }
 ],
 "metadata": {
  "kernelspec": {
   "display_name": "Python 3 (ipykernel)",
   "language": "python",
   "name": "python3"
  },
  "language_info": {
   "codemirror_mode": {
    "name": "ipython",
    "version": 3
   },
   "file_extension": ".py",
   "mimetype": "text/x-python",
   "name": "python",
   "nbconvert_exporter": "python",
   "pygments_lexer": "ipython3",
   "version": "3.9.13"
  }
 },
 "nbformat": 4,
 "nbformat_minor": 5
}
