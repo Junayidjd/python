{
 "cells": [
  {
   "cell_type": "code",
   "execution_count": 5,
   "id": "f3b9b450",
   "metadata": {},
   "outputs": [
    {
     "name": "stdout",
     "output_type": "stream",
     "text": [
      "[1, 3, 5, 7, 9, 11, 13, 15, 17, 19, 21, 23, 25]\n"
     ]
    }
   ],
   "source": [
    "# Q1. Which keyword is used to create a function? Create a function to return a list of odd numbers in the\n",
    "# range of 1 to 25.\n",
    "\n",
    "# ANS: Python def keyword is used to define a function, it is placed before a function name that is provided by \n",
    "#     the user to create a user-defined function.\n",
    "\n",
    "number1 = [1,2,3,4,5,6,7,8,9,10,11,12,13,14,15,16,17,18,19,20,21,22,23,24,25]\n",
    "\n",
    "def get_odd():\n",
    "    odd_list = []\n",
    "    for i in number1:\n",
    "        if i % 2!=0:\n",
    "            odd_list.append(i)\n",
    "        \n",
    "    return odd_list\n",
    "\n",
    "odd_num_list = get_odd()\n",
    "print(odd_num_list)\n",
    "\n",
    "given_list = [2, 4, 6, 8, 10, 12, 14, 16, 18, 20]"
   ]
  },
  {
   "cell_type": "code",
   "execution_count": null,
   "id": "7039058f",
   "metadata": {},
   "outputs": [],
   "source": []
  },
  {
   "cell_type": "code",
   "execution_count": 6,
   "id": "45728f78",
   "metadata": {},
   "outputs": [
    {
     "data": {
      "text/plain": [
       "tuple"
      ]
     },
     "execution_count": 6,
     "metadata": {},
     "output_type": "execute_result"
    }
   ],
   "source": [
    "# Q2. Why *args and **kwargs is used in some functions? Create a function each for *args and **kwargs\n",
    "# to demonstrate their use.\n",
    "\n",
    "\n",
    "#ANS: Python has *args which allow us to pass the variable number of non keyword arguments to function.\n",
    "\n",
    "# *args\n",
    "\n",
    "# In the function, we should use an asterisk * before the parameter name to pass variable length arguments.\n",
    "# The arguments are passed as a tuple and these passed arguments make tuple inside the function with same name as \n",
    "# the parameter excluding asterisk *\n",
    "\n",
    "\n",
    "\n",
    "# **kwargs\n",
    "\n",
    "# it allows us to pass the variable length of keyword arguments to the function.\n",
    "\n",
    "# In the function, we use the double asterisk ** before the parameter name to denote this type of argument.\n",
    "# The arguments are passed as a dictionary and these arguments make a dictionary inside function with name same as \n",
    "# the parameter excluding double asterisk **.\n",
    "\n",
    "\n",
    "\n",
    "# *args\n",
    "def test11(*args):\n",
    "    return args\n",
    "test11(1,2,1,3,4,5)\n",
    "type(test11())\n",
    "\n"
   ]
  },
  {
   "cell_type": "code",
   "execution_count": 7,
   "id": "29647f6f",
   "metadata": {},
   "outputs": [
    {
     "data": {
      "text/plain": [
       "dict"
      ]
     },
     "execution_count": 7,
     "metadata": {},
     "output_type": "execute_result"
    }
   ],
   "source": [
    "# **kwargs\n",
    "def test15(**kwargs):\n",
    "    return kwargs\n",
    "test15(id=100,name=\"jd\")\n",
    "type(test15())"
   ]
  },
  {
   "cell_type": "code",
   "execution_count": 16,
   "id": "1423d24b",
   "metadata": {},
   "outputs": [
    {
     "ename": "IndentationError",
     "evalue": "unexpected indent (1598791398.py, line 12)",
     "output_type": "error",
     "traceback": [
      "\u001b[1;36m  File \u001b[1;32m\"C:\\Users\\junaid siddiqui\\AppData\\Local\\Temp\\ipykernel_16932\\1598791398.py\"\u001b[1;36m, line \u001b[1;32m12\u001b[0m\n\u001b[1;33m    list45 = [2,4,6,8,10,12,14,16,18,20]\u001b[0m\n\u001b[1;37m    ^\u001b[0m\n\u001b[1;31mIndentationError\u001b[0m\u001b[1;31m:\u001b[0m unexpected indent\n"
     ]
    }
   ],
   "source": [
    "\n",
    "\n",
    "# Q3. What is an iterator in python? Name the method used to initialise the iterator object and the method\n",
    "# used for iteration. Use these methods to print the first five elements of the given list [2, 4, 6, 8, 10, 12, 14,\n",
    "# 16, 18, 20].\n",
    "\n",
    "# ANS: An iterator in Python is an object that contains a countable number of elements that can be iterated upon.\n",
    "# In simpler words, we can say that Iterators are objects that allow you to traverse through all the elements of a \n",
    "# collection and return one element at a time. More specifically, we say that an iterator is an object that \n",
    "# implements the iterator protocol\n",
    "\n",
    "\n",
    "# define a iterable such as a list\n",
    " list45 = [2,4,6,8,10,12,14,16,18,20]\n",
    "# get an iterator using iter()\n",
    " iter1 = list45.__iter__()\n",
    "#iertae the item using __next__method\n",
    " print(iter1.__next__())\n",
    "\n",
    "\n",
    "\n"
   ]
  },
  {
   "cell_type": "code",
   "execution_count": null,
   "id": "df07bdd0",
   "metadata": {},
   "outputs": [],
   "source": [
    "# Create an iterator\n",
    "iter_list = iter(given_list)\n",
    "\n",
    "# Iterate and print the first five elements\n",
    "for i in range(5):\n",
    "    try:\n",
    "        element = next(iter_list)\n",
    "        print(element)\n",
    "    except StopIteration:\n",
    "        break"
   ]
  },
  {
   "cell_type": "code",
   "execution_count": 9,
   "id": "dad4a352",
   "metadata": {},
   "outputs": [
    {
     "name": "stdout",
     "output_type": "stream",
     "text": [
      "2\n",
      "4\n",
      "6\n",
      "8\n",
      "10\n"
     ]
    }
   ],
   "source": [
    "given_list = [2, 4, 6, 8, 10, 12, 14, 16, 18, 20]\n",
    "\n",
    "# Create an iterator\n",
    "iter_list = iter(given_list)\n",
    "\n",
    "# Iterate and print the first five elements\n",
    "for i in range(5):\n",
    "        element = next(iter_list)\n",
    "        print(element)"
   ]
  },
  {
   "cell_type": "code",
   "execution_count": null,
   "id": "8e49c7a4",
   "metadata": {},
   "outputs": [],
   "source": []
  },
  {
   "cell_type": "code",
   "execution_count": 4,
   "id": "1407b455",
   "metadata": {},
   "outputs": [
    {
     "name": "stdout",
     "output_type": "stream",
     "text": [
      "0\n",
      "1\n",
      "2\n"
     ]
    }
   ],
   "source": [
    "\n",
    "\n",
    "\n",
    "# Q4.  What is a generator function in python? Why yield keyword is used? Give an example of a generator\n",
    "# function.\n",
    "\n",
    "# ANS:\n",
    "# In Python, a generator is a function that returns an iterator that produces a sequence of values when iterated \n",
    "# over.\n",
    "\n",
    "#  Generators are useful when we want to produce a large sequence of values, but we don't want to store all of \n",
    "# them in memory at once.\n",
    "\n",
    "\n",
    "# yield\n",
    "\n",
    "# yield keyword is used to create a generator function. A type of function that is memory efficient and can be used\n",
    "# like an iterator object.\n",
    "# the yield keyword will turn any expression that is given with it into a generator object and return it to the \n",
    "# caller. Therefore, you must iterate over the generator object if you wish to obtain the values stored there.\n",
    "\n",
    "\n",
    "\n",
    "def my_gen(n):\n",
    "    value= 0\n",
    "    while value < n :\n",
    "        yield value\n",
    "        value +=1\n",
    "        \n",
    "for value in my_gen(3):\n",
    "    print(value)"
   ]
  },
  {
   "cell_type": "code",
   "execution_count": 17,
   "id": "d0c28ec6",
   "metadata": {},
   "outputs": [],
   "source": [
    "# Q5. Create a generator function for prime numbers less than 1000. Use the next() method to print the\n",
    "# first 20 prime numbers.\n",
    "\n"
   ]
  },
  {
   "cell_type": "code",
   "execution_count": 6,
   "id": "8b3cac6f",
   "metadata": {
    "scrolled": false
   },
   "outputs": [
    {
     "name": "stdout",
     "output_type": "stream",
     "text": [
      "2\n",
      "3\n",
      "5\n",
      "7\n",
      "11\n",
      "13\n",
      "17\n",
      "19\n",
      "23\n",
      "29\n"
     ]
    }
   ],
   "source": [
    "def is_prime(num):\n",
    "    if num < 2:\n",
    "        return False\n",
    "    for i in range(2,int(num**0.5) +1):\n",
    "        if num % i == 0:\n",
    "            return False\n",
    "    return True\n",
    "\n",
    "def prime_generator():\n",
    "    num = 2\n",
    "    while True:\n",
    "        if is_prime(num):\n",
    "            yield num\n",
    "        num += 1\n",
    "\n",
    "# Create a generator object\n",
    "prime_gen = prime_generator()\n",
    "\n",
    "# Print the first 20 prime numbers\n",
    "for _ in range(10):\n",
    "    print(next(prime_gen))\n"
   ]
  },
  {
   "cell_type": "code",
   "execution_count": 1,
   "id": "4ecabd19",
   "metadata": {},
   "outputs": [],
   "source": [
    "# Q6. Write a python program to print the first 10 Fibonacci numbers using a while loop.\n"
   ]
  },
  {
   "cell_type": "code",
   "execution_count": 4,
   "id": "2624e55b",
   "metadata": {},
   "outputs": [
    {
     "name": "stdout",
     "output_type": "stream",
     "text": [
      "Entre your number 10\n",
      "0\n",
      "1\n",
      "1\n",
      "2\n",
      "3\n",
      "5\n",
      "8\n",
      "13\n",
      "21\n",
      "34\n"
     ]
    }
   ],
   "source": [
    "number = int(input(\"Entre your number \"))\n",
    "a , b = 0,1\n",
    "counter = 0\n",
    "while counter < number:\n",
    "    print(a)\n",
    "    c=a+b\n",
    "    a=b\n",
    "    b=c\n",
    "    counter = counter + 1"
   ]
  },
  {
   "cell_type": "code",
   "execution_count": 5,
   "id": "0d82158f",
   "metadata": {},
   "outputs": [],
   "source": [
    "# Q7. Write a List Comprehension to iterate through the given string: ‘pwskills’.\n",
    "# Expected output: ['p', 'w', 's', 'k', 'i', 'l', 'l', 's']"
   ]
  },
  {
   "cell_type": "code",
   "execution_count": 12,
   "id": "8e1a98bd",
   "metadata": {},
   "outputs": [
    {
     "name": "stdout",
     "output_type": "stream",
     "text": [
      "['p', 'w', 's', 'k', 'i', 'l', 'l', 's']\n"
     ]
    }
   ],
   "source": [
    "# my_string = \"Hello, World!\"\n",
    "\n",
    "# for char in my_string:\n",
    "# #     print(char)\n",
    "\n",
    "string = 'pwskills'\n",
    "output_list = [char for char in string]\n",
    "print(output_list)\n"
   ]
  },
  {
   "cell_type": "code",
   "execution_count": 14,
   "id": "8f888d3f",
   "metadata": {},
   "outputs": [
    {
     "name": "stdout",
     "output_type": "stream",
     "text": [
      "!dlroW ,olleH\n",
      "!dlroW ,olleH\n"
     ]
    }
   ],
   "source": [
    "def reverse_string(input_string):\n",
    "    reversed_string = \"\"\n",
    "    for char in input_string:\n",
    "        reversed_string = char + reversed_string\n",
    "    return reversed_string\n",
    "\n",
    "# Example Usage\n",
    "input_string = \"Hello, World!\"\n",
    "reversed_string = reverse_string(input_string)\n",
    "print(reversed_string)\n",
    "\n",
    "\n",
    "\n",
    "def reverse_string(input_string):\n",
    "    return input_string[::-1]\n",
    "\n",
    "# Example Usage\n",
    "input_string = \"Hello, World!\"\n",
    "reversed_string = reverse_string(input_string)\n",
    "print(reversed_string)\n"
   ]
  },
  {
   "cell_type": "code",
   "execution_count": null,
   "id": "9b00210e",
   "metadata": {},
   "outputs": [],
   "source": [
    "input_str =  input(\"entre any input\")\n",
    "reverse_str = \"\"\n",
    "while True:\n",
    "    reverse_str += input_str[::-1]\n",
    "if input_str == reverse_str:\n",
    "    print(\"this is Palindrome\")\n",
    "else :\n",
    "    print(\"this is not Palindrome\")"
   ]
  },
  {
   "cell_type": "code",
   "execution_count": 5,
   "id": "84b24f88",
   "metadata": {},
   "outputs": [
    {
     "name": "stdout",
     "output_type": "stream",
     "text": [
      "Enter any input: 02022020\n",
      "This is a Palindrome\n"
     ]
    }
   ],
   "source": [
    "input_str = input(\"Enter any input: \")\n",
    "reverse_str = input_str[::-1]\n",
    "\n",
    "if input_str == reverse_str:\n",
    "    print(\"This is a Palindrome\")\n",
    "else:\n",
    "    print(\"This is not a Palindrome\")\n"
   ]
  },
  {
   "cell_type": "code",
   "execution_count": null,
   "id": "34e16aab",
   "metadata": {},
   "outputs": [],
   "source": [
    "# Q9. Write a code to print odd numbers from 1 to 100 using list comprehension."
   ]
  },
  {
   "cell_type": "code",
   "execution_count": null,
   "id": "e6f14284",
   "metadata": {},
   "outputs": [],
   "source": [
    "odd_numbers = [num for num in range(1, 101) if num % 2 != 0]\n",
    "print(odd_numbers)\n"
   ]
  }
 ],
 "metadata": {
  "kernelspec": {
   "display_name": "Python 3 (ipykernel)",
   "language": "python",
   "name": "python3"
  },
  "language_info": {
   "codemirror_mode": {
    "name": "ipython",
    "version": 3
   },
   "file_extension": ".py",
   "mimetype": "text/x-python",
   "name": "python",
   "nbconvert_exporter": "python",
   "pygments_lexer": "ipython3",
   "version": "3.9.13"
  }
 },
 "nbformat": 4,
 "nbformat_minor": 5
}
